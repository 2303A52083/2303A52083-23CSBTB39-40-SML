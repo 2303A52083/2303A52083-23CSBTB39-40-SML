{
  "nbformat": 4,
  "nbformat_minor": 0,
  "metadata": {
    "colab": {
      "provenance": [],
      "authorship_tag": "ABX9TyO2aCINuA6LV+Qc1/J7w3B+",
      "include_colab_link": true
    },
    "kernelspec": {
      "name": "python3",
      "display_name": "Python 3"
    },
    "language_info": {
      "name": "python"
    }
  },
  "cells": [
    {
      "cell_type": "markdown",
      "metadata": {
        "id": "view-in-github",
        "colab_type": "text"
      },
      "source": [
        "<a href=\"https://colab.research.google.com/github/2303A52083/2303A52083-23CSBTB39-40-SML/blob/main/SML2.ipynb\" target=\"_parent\"><img src=\"https://colab.research.google.com/assets/colab-badge.svg\" alt=\"Open In Colab\"/></a>"
      ]
    },
    {
      "cell_type": "markdown",
      "source": [
        "1)Given the following dataset: X={1.3,1.5,2.6,2.6,3.2,3.9,4.2,3.7,3.10,3.0,11,6.7,1.9}. Compute the density of the data using a histogram with 5 bins."
      ],
      "metadata": {
        "id": "EmiauMAHK5Gy"
      }
    },
    {
      "cell_type": "code",
      "execution_count": 1,
      "metadata": {
        "colab": {
          "base_uri": "https://localhost:8080/",
          "height": 524
        },
        "id": "SdDsA1BGKYKt",
        "outputId": "ae996b88-99e8-46df-c3a3-4e0012e25f8f"
      },
      "outputs": [
        {
          "output_type": "stream",
          "name": "stdout",
          "text": [
            "Bin edges: [ 1.3   3.24  5.18  7.12  9.06 11.  ]\n",
            "Counts in each bin: [8 3 1 0 1]\n",
            "Density in each bin: [0.31720856 0.11895321 0.03965107 0.         0.03965107]\n"
          ]
        },
        {
          "output_type": "display_data",
          "data": {
            "text/plain": [
              "<Figure size 640x480 with 1 Axes>"
            ],
            "image/png": "[encoded data removed]"
          },
          "metadata": {}
        }
      ],
      "source": [
        "import numpy as np\n",
        "import matplotlib.pyplot as plt\n",
        "data = np.array([1.3, 1.5, 2.6, 2.6, 3.2, 3.9, 4.2, 3.7, 3.10, 3.0, 11, 6.7, 1.9])\n",
        "num_bins = 5\n",
        "counts, bin_edges = np.histogram(data, bins=num_bins, density=False)\n",
        "bin_width = bin_edges[1] - bin_edges[0]\n",
        "density = counts / (bin_width * np.sum(counts))\n",
        "print(\"Bin edges:\", bin_edges)\n",
        "print(\"Counts in each bin:\", counts)\n",
        "print(\"Density in each bin:\", density)\n",
        "plt.hist(data, bins=num_bins, density=True, alpha=0.6, color='g', edgecolor='black')\n",
        "plt.xlabel('Value')\n",
        "plt.ylabel('Density')\n",
        "plt.title('Histogram of Data with Density')\n",
        "plt.grid(True)\n",
        "plt.show()"
      ]
    },
    {
      "cell_type": "markdown",
      "source": [
        "2) (dependent variables)    (independent variables)\n",
        "\n",
        "12                              51\n",
        "\n",
        "13                              63\n",
        "\n",
        "56                              37\n",
        "\n",
        "23                               88\n",
        "\n",
        "41                               33\n",
        "\n",
        "28                              72\n",
        "\n",
        "51                              81\n",
        "\n",
        "Find Mean, Median, Mode , Variance , Standard deviation , Range , Interquartile Range (IQR),  Skewness ,Kurtosis of x and y ."
      ],
      "metadata": {
        "id": "dsUng869LA5u"
      }
    },
    {
      "cell_type": "code",
      "source": [
        "import numpy as np\n",
        "import pandas as pd\n",
        "from scipy import stats\n",
        "x = np.array([12, 13, 56, 23, 41, 28, 51])\n",
        "y = np.array([51, 63, 37, 88, 33, 72, 81])\n",
        "mean_x = np.mean(x)\n",
        "mean_y = np.mean(y)\n",
        "median_x = np.median(x)\n",
        "median_y = np.median(y)\n",
        "mode_x = pd.Series(x).mode().values\n",
        "mode_y = pd.Series(y).mode().values\n",
        "variance_x = np.var(x, ddof=1)  # Sample variance\n",
        "variance_y = np.var(y, ddof=1)\n",
        "std_dev_x = np.std(x, ddof=1)  # Sample standard deviation\n",
        "std_dev_y = np.std(y, ddof=1)\n",
        "range_x = np.max(x) - np.min(x)\n",
        "range_y = np.max(y) - np.min(y)\n",
        "iqr_x = np.percentile(x, 75) - np.percentile(x, 25)\n",
        "iqr_y = np.percentile(y, 75) - np.percentile(y, 25)\n",
        "skewness_x = stats.skew(x)\n",
        "skewness_y = stats.skew(y)\n",
        "kurtosis_x = stats.kurtosis(x)\n",
        "kurtosis_y = stats.kurtosis(y)\n",
        "print(\"For x:\")\n",
        "print(f\"Mean: {mean_x}\")\n",
        "print(f\"Median: {median_x}\")\n",
        "print(f\"Mode: {mode_x}\")\n",
        "print(f\"Variance: {variance_x}\")\n",
        "print(f\"Standard Deviation: {std_dev_x}\")\n",
        "print(f\"Range: {range_x}\")\n",
        "print(f\"IQR: {iqr_x}\")\n",
        "print(f\"Skewness: {skewness_x}\")\n",
        "print(f\"Kurtosis: {kurtosis_x}\")\n",
        "print(\"\\nFor y:\")\n",
        "print(f\"Mean: {mean_y}\")\n",
        "print(f\"Median: {median_y}\")\n",
        "print(f\"Mode: {mode_y}\")\n",
        "print(f\"Variance: {variance_y}\")\n",
        "print(f\"Standard Deviation: {std_dev_y}\")\n",
        "print(f\"Range: {range_y}\")\n",
        "print(f\"IQR: {iqr_y}\")\n",
        "print(f\"Skewness: {skewness_y}\")\n",
        "print(f\"Kurtosis: {kurtosis_y}\")"
      ],
      "metadata": {
        "colab": {
          "base_uri": "https://localhost:8080/"
        },
        "id": "YMVGrxsUKmcx",
        "outputId": "c5ea352c-58bb-4381-db14-ae239a57c8da"
      },
      "execution_count": 2,
      "outputs": [
        {
          "output_type": "stream",
          "name": "stdout",
          "text": [
            "For x:\n",
            "Mean: 32.0\n",
            "Median: 28.0\n",
            "Mode: [12 13 23 28 41 51 56]\n",
            "Variance: 312.6666666666667\n",
            "Standard Deviation: 17.682382946499793\n",
            "Range: 44\n",
            "IQR: 28.0\n",
            "Skewness: 0.18755223867066048\n",
            "Kurtosis: -1.47684021258314\n",
            "\n",
            "For y:\n",
            "Mean: 60.714285714285715\n",
            "Median: 63.0\n",
            "Mode: [33 37 51 63 72 81 88]\n",
            "Variance: 452.23809523809524\n",
            "Standard Deviation: 21.265890417240826\n",
            "Range: 55\n",
            "IQR: 32.5\n",
            "Skewness: -0.10160487226954186\n",
            "Kurtosis: -1.4265295827972655\n"
          ]
        }
      ]
    }
  ]
}