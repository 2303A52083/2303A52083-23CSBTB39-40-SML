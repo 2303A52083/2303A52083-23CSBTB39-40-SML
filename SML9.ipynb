{
  "nbformat": 4,
  "nbformat_minor": 0,
  "metadata": {
    "colab": {
      "provenance": [],
      "authorship_tag": "ABX9TyPCZUJKRHVkl9sS8g+XjUYo",
      "include_colab_link": true
    },
    "kernelspec": {
      "name": "python3",
      "display_name": "Python 3"
    },
    "language_info": {
      "name": "python"
    }
  },
  "cells": [
    {
      "cell_type": "markdown",
      "metadata": {
        "id": "view-in-github",
        "colab_type": "text"
      },
      "source": [
        "<a href=\"https://colab.research.google.com/github/2303A52083/2303A52083-23CSBTB39-40-SML/blob/main/SML9.ipynb\" target=\"_parent\"><img src=\"https://colab.research.google.com/assets/colab-badge.svg\" alt=\"Open In Colab\"/></a>"
      ]
    },
    {
      "cell_type": "code",
      "source": [
        "import pandas as pd\n",
        "data=pd.read_cvs(\"bcs.cs\")\n",
        "data.head()"
      ],
      "metadata": {
        "id": "F31ATn3NiWmh"
      },
      "execution_count": null,
      "outputs": []
    },
    {
      "cell_type": "code",
      "source": [
        "print(data.columns)\n",
        "features=data.drop('diagnosis',axis=1)\n",
        "target=data['diagnosis']"
      ],
      "metadata": {
        "id": "vK0w3woIit7E"
      },
      "execution_count": null,
      "outputs": []
    },
    {
      "cell_type": "code",
      "source": [
        "from sklearn.model_selection import train_test_split\n",
        "from sklearn.linear_model import LogisticRegression\n",
        "from sklearn.metrics import accuracy_score\n",
        "X_train, X_test, y_train, y_test = train_test_split(features,\n",
        "target,␣\n",
        "↪test_size=0.2, random_state=42)\n",
        "model = LogisticRegression(max_iter=1000)\n",
        "model.fit(X_train, y_train)\n",
        "y_pred = model.predict(X_test)\n",
        "accuracy = accuracy_score(y_test, y_pred)\n",
        "print(f\"Accuracy: {accuracy:.4f}\")"
      ],
      "metadata": {
        "id": "z7BoCrlZi-dc"
      },
      "execution_count": null,
      "outputs": []
    },
    {
      "cell_type": "code",
      "source": [
        "test_sizes = [0.1, 0.2, 0.3, 0.4,\n",
        "0.5]\n",
        "for size in test_sizes:\n",
        "X_train, X_test, y_train, y_test = train_test_split(features,\n",
        "target,␣\n",
        "↪test_size=size, random_state=42)\n",
        "model.fit(X_train, y_train)\n",
        "y_pred = model.predict(X_test)\n",
        "accuracy = accuracy_score(y_test, y_pred)\n",
        "print(f\"Test size: {size}, Accuracy: {accuracy:.4f}\")"
      ],
      "metadata": {
        "id": "Hn6IYm6WmwD8"
      },
      "execution_count": null,
      "outputs": []
    },
    {
      "cell_type": "code",
      "source": [
        "import pandas as pd\n",
        "data=pd.read_csv('breast_cancer_survival.csv')\n",
        "data.head()"
      ],
      "metadata": {
        "id": "pST5VSfLm06I"
      },
      "execution_count": null,
      "outputs": []
    },
    {
      "cell_type": "code",
      "source": [
        "from sklearn.model_selection import train_test_split\n",
        "from sklearn.linear_model import LogisticRegression\n",
        "from sklearn.metrics import accuracy_score\n",
        "model = LogisticRegression(max_iter=1000)"
      ],
      "metadata": {
        "id": "zV7g4HCbnIim"
      },
      "execution_count": null,
      "outputs": []
    },
    {
      "cell_type": "code",
      "source": [
        "test_sizes = [0.1, 0.2, 0.3, 0.4, 0.5]\n",
        "for size in test_sizes:\n",
        "X_train, X_test, y_train, y_test = train_test_split(features,\n",
        "target,␣\n",
        "↪test_size=size, random_state=42)\n",
        "model.fit(X_train, y_train)\n",
        "y_pred = model.predict(X_test)\n",
        "accuracy = accuracy_score(y_test, y_pred)\n",
        "print(f\"Test size: {size}, Accuracy: {accuracy:.4f}\")"
      ],
      "metadata": {
        "id": "QQlYu8Y2nMC1"
      },
      "execution_count": null,
      "outputs": []
    }
  ]
}