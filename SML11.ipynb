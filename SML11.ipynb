{
  "nbformat": 4,
  "nbformat_minor": 0,
  "metadata": {
    "colab": {
      "provenance": [],
      "authorship_tag": "ABX9TyMKJ660R2cB5JT+3bYLyffz",
      "include_colab_link": true
    },
    "kernelspec": {
      "name": "python3",
      "display_name": "Python 3"
    },
    "language_info": {
      "name": "python"
    }
  },
  "cells": [
    {
      "cell_type": "markdown",
      "metadata": {
        "id": "view-in-github",
        "colab_type": "text"
      },
      "source": [
        "<a href=\"https://colab.research.google.com/github/2303A52083/2303A52083-23CSBTB39-40-SML/blob/main/SML11.ipynb\" target=\"_parent\"><img src=\"https://colab.research.google.com/assets/colab-badge.svg\" alt=\"Open In Colab\"/></a>"
      ]
    },
    {
      "cell_type": "code",
      "execution_count": null,
      "metadata": {
        "colab": {
          "base_uri": "https://localhost:8080/"
        },
        "id": "TOzlh3W1st24",
        "outputId": "2c2fe9f0-552c-4778-94c0-6acc141bc72a"
      },
      "outputs": [
        {
          "output_type": "stream",
          "name": "stdout",
          "text": [
            "SVM Accuracy (before PCA): 0.77\n",
            "KNN Accuracy (before PCA): 0.77\n",
            "Logistic Regression Accuracy (before PCA): 0.77\n",
            "SVM Accuracy (after PCA): 0.77\n",
            "KNN Accuracy (after PCA): 0.71\n",
            "Logistic Regression Accuracy (after PCA): 0.77\n",
            "\n",
            "Accuracies before PCA: {'SVM': 0.7692307692307693, 'KNN': 0.7692307692307693, 'Logistic Regression': 0.7692307692307693}\n",
            "Accuracies after PCA: {'SVM': 0.7692307692307693, 'KNN': 0.7076923076923077, 'Logistic Regression': 0.7692307692307693}\n"
          ]
        }
      ],
      "source": [
        "import pandas as pd\n",
        "from sklearn.model_selection import train_test_split\n",
        "from sklearn.preprocessing import LabelEncoder, StandardScaler\n",
        "from sklearn.decomposition import PCA\n",
        "from sklearn.svm import SVC\n",
        "from sklearn.neighbors import KNeighborsClassifier\n",
        "from sklearn.linear_model import LogisticRegression\n",
        "from sklearn.metrics import accuracy_score\n",
        "\n",
        "# Step 1: Load the data\n",
        "data = pd.read_csv('bcs.csv')\n",
        "\n",
        "# Step 2: Identify features and target variable\n",
        "# Drop rows with missing values in 'Patient_Status'\n",
        "data = data.dropna(subset=['Patient_Status'])\n",
        "\n",
        "# Encode the target variable 'Patient_Status'\n",
        "label_encoder = LabelEncoder()\n",
        "data['Patient_Status'] = label_encoder.fit_transform(data['Patient_Status'])  # Alive=0, Dead=1\n",
        "\n",
        "# Drop unnecessary columns like 'Date_of_Surgery' and 'Date_of_Last_Visit'\n",
        "data = data.drop(columns=['Date_of_Surgery', 'Date_of_Last_Visit'])\n",
        "\n",
        "# Separate features and target\n",
        "X = data.drop(columns=['Patient_Status'])\n",
        "y = data['Patient_Status']\n",
        "\n",
        "# Encode categorical variables\n",
        "X = pd.get_dummies(X, drop_first=True)\n",
        "\n",
        "# Split data into training and test sets\n",
        "X_train, X_test, y_train, y_test = train_test_split(X, y, test_size=0.2, random_state=42)\n",
        "\n",
        "# Standardize the data\n",
        "scaler = StandardScaler()\n",
        "X_train = scaler.fit_transform(X_train)\n",
        "X_test = scaler.transform(X_test)\n",
        "\n",
        "# Step 3: Train models and find accuracy\n",
        "# Initialize models\n",
        "svm = SVC(random_state=42)\n",
        "knn = KNeighborsClassifier()\n",
        "log_reg = LogisticRegression(random_state=42)\n",
        "\n",
        "# Train and evaluate models\n",
        "models = {'SVM': svm, 'KNN': knn, 'Logistic Regression': log_reg}\n",
        "accuracies = {}\n",
        "\n",
        "for model_name, model in models.items():\n",
        "    model.fit(X_train, y_train)\n",
        "    y_pred = model.predict(X_test)\n",
        "    accuracies[model_name] = accuracy_score(y_test, y_pred)\n",
        "    print(f'{model_name} Accuracy (before PCA): {accuracies[model_name]:.2f}')\n",
        "\n",
        "# Step 4: Reduce dimensionality with PCA\n",
        "pca = PCA(n_components=5)  # Adjust the number of components as needed\n",
        "X_train_pca = pca.fit_transform(X_train)\n",
        "X_test_pca = pca.transform(X_test)\n",
        "\n",
        "# Step 5: Retrain models on PCA-transformed data and evaluate accuracy\n",
        "pca_accuracies = {}\n",
        "\n",
        "for model_name, model in models.items():\n",
        "    model.fit(X_train_pca, y_train)\n",
        "    y_pred_pca = model.predict(X_test_pca)\n",
        "    pca_accuracies[model_name] = accuracy_score(y_test, y_pred_pca)\n",
        "    print(f'{model_name} Accuracy (after PCA): {pca_accuracies[model_name]:.2f}')\n",
        "\n",
        "# Display all accuracies\n",
        "print(\"\\nAccuracies before PCA:\", accuracies)\n",
        "print(\"Accuracies after PCA:\", pca_accuracies)\n"
      ]
    }
  ]
}